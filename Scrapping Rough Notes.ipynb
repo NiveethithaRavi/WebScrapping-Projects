{
 "cells": [
  {
   "cell_type": "code",
   "execution_count": null,
   "id": "30a31963",
   "metadata": {},
   "outputs": [],
   "source": [
    "Web Scrapping - It is a Technique to extract large amount of data from website for\n",
    "future buisiness predictions.Data we extract will be in unstructured form.\n",
    "We have to structure it.\n",
    "    \n",
    "    Diff ways to scrape websites\n",
    "    online services - bright data, etc\n",
    "    apis\n",
    "    own code\n",
    "\n",
    "    some web allow website explicitily and some websites forbids\n",
    "    so read conditions carefully\n",
    "    robot.txt - file(we can access this file ) - this file contains \n",
    "terms and conditions of scrapping - due to multiple reuqest server \n",
    "may reach its bottle neck\n",
    "\n",
    "\n",
    "\n",
    "specify the webpage\n",
    "send req to server to get html\n",
    "find the info you want in the html inspect code\n",
    "\n",
    "eg: if we want to extract all h1 tags\n",
    "    our code will go to the website and download it\n",
    "    then it will go to the h2 tags in source code\n",
    "    whenever it comes accross h1 tag it will copy the info and store\n",
    "    \n",
    "    \n",
    "COMPONENTS OF A WEBPAGE\n",
    "web page is made up of 4 types of files popularly used\n",
    "html, css, js,images(png,jpg),,,etc\n",
    " to scrape we use html file as it contains main content of the web page\n",
    " even in js file we try to extract html elements from it\n",
    "\n",
    "structure of html and how it scrapes\n",
    "diff types of format - web locators(div tag, ul,  x path) etc\n",
    "\n",
    "lib for web scrapping\n",
    "selenium\n",
    "beautiful soap\n",
    "pandas\n",
    "\n",
    "selenium - it is a web testing library that automates the browser activities\n",
    "through webdriver selenium supports all major browser available in market \n",
    "such as chrome, firefox, ie, safari,opera\n",
    "\n",
    "it is also used in automation, webdriver enable python to \n",
    "control the browser via OS-level interactions\n",
    "\n",
    "the library uses web driver in order to test commands and process the data\n",
    "we need'\n",
    "\n",
    "beautiful soup - to parse html and xml docs. it creates data parse tres\n",
    "to extract data easily\n",
    "\n",
    "pamdas - data manipulation and analysis\n",
    "    \n",
    "\n",
    "\n",
    "https://www.projectpro.io/article/python-libraries-for-web-scraping/625\n",
    "    "
   ]
  },
  {
   "cell_type": "code",
   "execution_count": null,
   "id": "f015c285",
   "metadata": {},
   "outputs": [],
   "source": [
    "https://automationpanda.com/2019/01/15/web-element-locators-for-test-automation/#:~:text=A%20Web%20element%20locator%20is,and%20type%20through%20a%20browser.\n",
    "types of element locators\n",
    "\n",
    "  A Web element locator is an object that finds\n",
    "    and returns Web elements on a page using a given query. \n",
    "    In short, locators find elements.\n",
    "\n",
    "Why are locators needed? As human users,\n",
    "we interact with Web pages visually:\n",
    "    We look, scroll, click, and type through a browser. \n",
    "    However, test automation interacts with Web pages programmatically: \n",
    "        it needs a coded way to find and manipulate those same elements.\n",
    "        \n",
    "        \n",
    "        types of element locators\n",
    "         id, element, txt, css locator,classes,name, individual tages like\n",
    "            (paragraph tag, div tag..etc)\n",
    "            we cal also use values like button, input, etc\n",
    "            \n",
    "            x path - v .imp\n",
    "            x path can be in multiple ways -\n",
    "    to get a link under div,hi and ahref'\n",
    "    way1 = x path - //div//h1//a - now this is the xpath for that link\n",
    "            here there is no ambuiguity\n",
    "    way2 = //div[@class = 'paste the text']\n",
    "            //div[@id = 'paste the text']\n",
    "    to get a para that contains the word price\n",
    "    //p[contains(text(),'Price')]\n",
    "    //a[@content = 'thread']  if there are 2 thread and u want the 1st one\n",
    "    (//a[@content = 'thread'])[1] like an array to get 1st one\n",
    "    if the tag is unknown use* (* means any tag)\n",
    "    //*[@id = 'paste the text']\n",
    "    \n",
    "    \n",
    "    \n",
    "\n",
    "\n",
    "            \n",
    "            \n",
    "            \n",
    "        "
   ]
  },
  {
   "cell_type": "code",
   "execution_count": null,
   "id": "cb43a41c",
   "metadata": {},
   "outputs": [],
   "source": [
    "# web scrapping Prerequities\n",
    "\n",
    "install beautifulsoup\n",
    "install selenium , here we set x path\n",
    "    v need to install chrome driver , so we need to knowthe version of chrome \n",
    "    we are using currently chrome://version = see your version\n",
    "    google - chrome driver download for selenuim and download your version\n",
    "    find your zip and download , find your exe file ad extract it to c drive\n",
    "    in c drive it will easy for path usage like c://..etc\n",
    "        orelse you can extract it anywhere\n",
    "        \n",
    "    if you update the chrome, then update chrome driver also\n",
    "    \n",
    "    chropath - web extension of chrome = we can get some x path for particlular\n",
    "    element in web page\n",
    "    \n",
    "    if you want to get x path quickly use - chropath \n",
    "    \n",
    "    scrappy is also a good website\n",
    "\n",
    "\n"
   ]
  },
  {
   "cell_type": "code",
   "execution_count": null,
   "id": "bff1db2c",
   "metadata": {},
   "outputs": [],
   "source": [
    "# 11. What is Robots.txt\n",
    "\n",
    "#A robots.txt file tells search engine crawlers which URLs the crawler can access on your site.\n",
    "#This is used mainly to avoid overloading your site with requests; it is not a mechanism for keeping a web page out of Google. \n",
    "#To keep a web page out of Google, block indexing with noindex or password-protect the page."
   ]
  },
  {
   "cell_type": "code",
   "execution_count": null,
   "id": "77a17011",
   "metadata": {},
   "outputs": [],
   "source": []
  },
  {
   "cell_type": "code",
   "execution_count": null,
   "id": "2ac22f71",
   "metadata": {},
   "outputs": [],
   "source": []
  },
  {
   "cell_type": "code",
   "execution_count": null,
   "id": "b86ce41c",
   "metadata": {},
   "outputs": [],
   "source": []
  },
  {
   "cell_type": "code",
   "execution_count": null,
   "id": "703f7162",
   "metadata": {},
   "outputs": [],
   "source": []
  },
  {
   "cell_type": "code",
   "execution_count": null,
   "id": "7295fc0e",
   "metadata": {},
   "outputs": [],
   "source": []
  },
  {
   "cell_type": "code",
   "execution_count": null,
   "id": "b8f0aef1",
   "metadata": {},
   "outputs": [],
   "source": []
  },
  {
   "cell_type": "code",
   "execution_count": null,
   "id": "100d29a0",
   "metadata": {},
   "outputs": [],
   "source": []
  },
  {
   "cell_type": "code",
   "execution_count": null,
   "id": "dd032981",
   "metadata": {},
   "outputs": [],
   "source": []
  },
  {
   "cell_type": "code",
   "execution_count": null,
   "id": "e055560b",
   "metadata": {},
   "outputs": [],
   "source": []
  },
  {
   "cell_type": "code",
   "execution_count": null,
   "id": "bffaa4c4",
   "metadata": {},
   "outputs": [],
   "source": []
  },
  {
   "cell_type": "code",
   "execution_count": null,
   "id": "31294dd2",
   "metadata": {},
   "outputs": [],
   "source": []
  },
  {
   "cell_type": "code",
   "execution_count": null,
   "id": "9587fabd",
   "metadata": {},
   "outputs": [],
   "source": []
  },
  {
   "cell_type": "code",
   "execution_count": null,
   "id": "926cfae1",
   "metadata": {},
   "outputs": [],
   "source": []
  },
  {
   "cell_type": "code",
   "execution_count": null,
   "id": "0b1a1438",
   "metadata": {},
   "outputs": [],
   "source": []
  },
  {
   "cell_type": "code",
   "execution_count": null,
   "id": "f1587db9",
   "metadata": {},
   "outputs": [],
   "source": []
  },
  {
   "cell_type": "code",
   "execution_count": null,
   "id": "eda34039",
   "metadata": {},
   "outputs": [],
   "source": []
  },
  {
   "cell_type": "code",
   "execution_count": null,
   "id": "e6d3c773",
   "metadata": {},
   "outputs": [],
   "source": []
  },
  {
   "cell_type": "code",
   "execution_count": null,
   "id": "151c6212",
   "metadata": {},
   "outputs": [],
   "source": []
  },
  {
   "cell_type": "code",
   "execution_count": null,
   "id": "a5309df5",
   "metadata": {},
   "outputs": [],
   "source": []
  },
  {
   "cell_type": "code",
   "execution_count": null,
   "id": "50075ad2",
   "metadata": {},
   "outputs": [],
   "source": []
  },
  {
   "cell_type": "code",
   "execution_count": null,
   "id": "e755c310",
   "metadata": {},
   "outputs": [],
   "source": []
  },
  {
   "cell_type": "code",
   "execution_count": null,
   "id": "fe125eeb",
   "metadata": {},
   "outputs": [],
   "source": []
  },
  {
   "cell_type": "code",
   "execution_count": null,
   "id": "c98aff1a",
   "metadata": {},
   "outputs": [],
   "source": []
  },
  {
   "cell_type": "code",
   "execution_count": null,
   "id": "855a1619",
   "metadata": {},
   "outputs": [],
   "source": []
  },
  {
   "cell_type": "code",
   "execution_count": null,
   "id": "6c839a27",
   "metadata": {},
   "outputs": [],
   "source": []
  },
  {
   "cell_type": "code",
   "execution_count": null,
   "id": "b2ce6309",
   "metadata": {},
   "outputs": [],
   "source": []
  },
  {
   "cell_type": "code",
   "execution_count": null,
   "id": "419704b1",
   "metadata": {},
   "outputs": [],
   "source": [
    "\n"
   ]
  },
  {
   "cell_type": "code",
   "execution_count": null,
   "id": "5203c0f5",
   "metadata": {},
   "outputs": [],
   "source": []
  },
  {
   "cell_type": "code",
   "execution_count": null,
   "id": "4b12d197",
   "metadata": {},
   "outputs": [],
   "source": []
  },
  {
   "cell_type": "code",
   "execution_count": null,
   "id": "055ab71d",
   "metadata": {},
   "outputs": [],
   "source": []
  },
  {
   "cell_type": "code",
   "execution_count": null,
   "id": "d87feca0",
   "metadata": {},
   "outputs": [],
   "source": []
  },
  {
   "cell_type": "code",
   "execution_count": null,
   "id": "20f1626c",
   "metadata": {},
   "outputs": [],
   "source": []
  },
  {
   "cell_type": "code",
   "execution_count": null,
   "id": "cce6dc67",
   "metadata": {},
   "outputs": [],
   "source": []
  },
  {
   "cell_type": "code",
   "execution_count": null,
   "id": "4e690091",
   "metadata": {},
   "outputs": [],
   "source": []
  },
  {
   "cell_type": "code",
   "execution_count": null,
   "id": "6639327d",
   "metadata": {},
   "outputs": [],
   "source": []
  },
  {
   "cell_type": "code",
   "execution_count": null,
   "id": "c79ea1dc",
   "metadata": {},
   "outputs": [],
   "source": []
  },
  {
   "cell_type": "code",
   "execution_count": null,
   "id": "da1023ea",
   "metadata": {},
   "outputs": [],
   "source": []
  },
  {
   "cell_type": "code",
   "execution_count": null,
   "id": "8bfd314a",
   "metadata": {},
   "outputs": [],
   "source": []
  },
  {
   "cell_type": "code",
   "execution_count": null,
   "id": "17d2ef76",
   "metadata": {},
   "outputs": [],
   "source": []
  },
  {
   "cell_type": "code",
   "execution_count": null,
   "id": "4f07fe6e",
   "metadata": {},
   "outputs": [],
   "source": []
  },
  {
   "cell_type": "code",
   "execution_count": null,
   "id": "2be029f0",
   "metadata": {},
   "outputs": [],
   "source": []
  },
  {
   "cell_type": "code",
   "execution_count": null,
   "id": "7a58885f",
   "metadata": {},
   "outputs": [],
   "source": []
  },
  {
   "cell_type": "code",
   "execution_count": null,
   "id": "745e4fd9",
   "metadata": {},
   "outputs": [],
   "source": []
  },
  {
   "cell_type": "code",
   "execution_count": null,
   "id": "54a0508c",
   "metadata": {},
   "outputs": [],
   "source": [
    "\n"
   ]
  },
  {
   "cell_type": "code",
   "execution_count": null,
   "id": "5c62154a",
   "metadata": {},
   "outputs": [],
   "source": []
  },
  {
   "cell_type": "code",
   "execution_count": null,
   "id": "65b898d7",
   "metadata": {},
   "outputs": [],
   "source": []
  },
  {
   "cell_type": "code",
   "execution_count": null,
   "id": "74fa3ad9",
   "metadata": {},
   "outputs": [],
   "source": []
  },
  {
   "cell_type": "code",
   "execution_count": null,
   "id": "f124b8e4",
   "metadata": {},
   "outputs": [],
   "source": []
  },
  {
   "cell_type": "code",
   "execution_count": null,
   "id": "93bce37d",
   "metadata": {},
   "outputs": [],
   "source": []
  },
  {
   "cell_type": "code",
   "execution_count": null,
   "id": "ee15e3d8",
   "metadata": {},
   "outputs": [],
   "source": []
  },
  {
   "cell_type": "code",
   "execution_count": null,
   "id": "3498f620",
   "metadata": {},
   "outputs": [],
   "source": []
  },
  {
   "cell_type": "code",
   "execution_count": null,
   "id": "0c054609",
   "metadata": {},
   "outputs": [],
   "source": []
  },
  {
   "cell_type": "code",
   "execution_count": null,
   "id": "bff0ed75",
   "metadata": {},
   "outputs": [],
   "source": []
  },
  {
   "cell_type": "code",
   "execution_count": null,
   "id": "a803bb87",
   "metadata": {},
   "outputs": [],
   "source": []
  },
  {
   "cell_type": "code",
   "execution_count": null,
   "id": "7d891c78",
   "metadata": {},
   "outputs": [],
   "source": []
  },
  {
   "cell_type": "code",
   "execution_count": null,
   "id": "251bafe8",
   "metadata": {},
   "outputs": [],
   "source": []
  },
  {
   "cell_type": "code",
   "execution_count": null,
   "id": "7fd6fdf0",
   "metadata": {},
   "outputs": [],
   "source": []
  },
  {
   "cell_type": "code",
   "execution_count": null,
   "id": "36d49c54",
   "metadata": {},
   "outputs": [],
   "source": []
  },
  {
   "cell_type": "code",
   "execution_count": null,
   "id": "2c47358c",
   "metadata": {},
   "outputs": [],
   "source": []
  },
  {
   "cell_type": "code",
   "execution_count": null,
   "id": "3108ae17",
   "metadata": {},
   "outputs": [],
   "source": []
  },
  {
   "cell_type": "code",
   "execution_count": null,
   "id": "4a5e959d",
   "metadata": {},
   "outputs": [],
   "source": []
  },
  {
   "cell_type": "code",
   "execution_count": null,
   "id": "42a0710b",
   "metadata": {},
   "outputs": [],
   "source": []
  },
  {
   "cell_type": "code",
   "execution_count": null,
   "id": "57ab55c4",
   "metadata": {},
   "outputs": [],
   "source": []
  }
 ],
 "metadata": {
  "kernelspec": {
   "display_name": "Python 3 (ipykernel)",
   "language": "python",
   "name": "python3"
  },
  "language_info": {
   "codemirror_mode": {
    "name": "ipython",
    "version": 3
   },
   "file_extension": ".py",
   "mimetype": "text/x-python",
   "name": "python",
   "nbconvert_exporter": "python",
   "pygments_lexer": "ipython3",
   "version": "3.9.12"
  }
 },
 "nbformat": 4,
 "nbformat_minor": 5
}
