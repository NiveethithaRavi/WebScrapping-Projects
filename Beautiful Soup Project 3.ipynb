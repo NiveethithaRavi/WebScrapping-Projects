{
 "cells": [
  {
   "cell_type": "markdown",
   "id": "7dc64a0b",
   "metadata": {},
   "source": [
    "#  Scrapping XML Data Using Beautiful Soup\n"
   ]
  },
  {
   "cell_type": "code",
   "execution_count": null,
   "id": "1cf7af07",
   "metadata": {},
   "outputs": [],
   "source": [
    "# https://aws.amazon.com/what-is/xml/ - article\n",
    "\n",
    "from bs4 import BeautifulSoup as bs\n",
    "import requests"
   ]
  },
  {
   "cell_type": "code",
   "execution_count": 2,
   "id": "c34f92f6",
   "metadata": {},
   "outputs": [],
   "source": [
    "url = \"https://www.hindustantimes.com/feeds/rss/cities/bengaluru-news/rssfeed.xml\" # xml page\n",
    "xml = requests.get(url)\n",
    "# ex go to hindustan times rss feed xml , you will see lot of links click on any - you will get xml file"
   ]
  },
  {
   "cell_type": "code",
   "execution_count": 3,
   "id": "21cfcd9b",
   "metadata": {},
   "outputs": [
    {
     "data": {
      "text/plain": [
       "b'<HTML> <BODY><H1> Access Denied </H1></BODY></HTML>'"
      ]
     },
     "execution_count": 3,
     "metadata": {},
     "output_type": "execute_result"
    }
   ],
   "source": [
    "xml.content  # the website may block our requests"
   ]
  },
  {
   "cell_type": "code",
   "execution_count": 4,
   "id": "8ad27a56",
   "metadata": {},
   "outputs": [],
   "source": [
    "#go to w3 schools xml files\n",
    "url =\"https://www.w3schools.com/xml/note.xml\"\n",
    "xml = requests.get(url)"
   ]
  },
  {
   "cell_type": "code",
   "execution_count": 5,
   "id": "dd976589",
   "metadata": {},
   "outputs": [
    {
     "data": {
      "text/plain": [
       "b'<?xml version=\"1.0\" encoding=\"UTF-8\"?>\\n<note>\\n  <to>Tove</to>\\n  <from>Jani</from>\\n  <heading>Reminder</heading>\\n  <body>Don\\'t forget me this weekend!</body>\\n</note>'"
      ]
     },
     "execution_count": 5,
     "metadata": {},
     "output_type": "execute_result"
    }
   ],
   "source": [
    "xml.content"
   ]
  },
  {
   "cell_type": "code",
   "execution_count": 6,
   "id": "779fa852",
   "metadata": {},
   "outputs": [
    {
     "name": "stdout",
     "output_type": "stream",
     "text": [
      "<?xml version=\"1.0\" encoding=\"UTF-8\"?><html><body><note>\n",
      "<to>Tove</to>\n",
      "<from>Jani</from>\n",
      "<heading>Reminder</heading>\n",
      "  Don't forget me this weekend!\n",
      "</note></body></html>\n"
     ]
    },
    {
     "name": "stderr",
     "output_type": "stream",
     "text": [
      "C:\\Users\\Admin\\anaconda3\\lib\\site-packages\\bs4\\builder\\__init__.py:545: XMLParsedAsHTMLWarning: It looks like you're parsing an XML document using an HTML parser. If this really is an HTML document (maybe it's XHTML?), you can ignore or filter this warning. If it's XML, you should know that using an XML parser will be more reliable. To parse this document as XML, make sure you have the lxml package installed, and pass the keyword argument `features=\"xml\"` into the BeautifulSoup constructor.\n",
      "  warnings.warn(\n"
     ]
    }
   ],
   "source": [
    "#parse the data\n",
    "soup = bs(xml.content,'lxml')\n",
    "print(soup)"
   ]
  },
  {
   "cell_type": "code",
   "execution_count": 7,
   "id": "7d9302f4",
   "metadata": {},
   "outputs": [
    {
     "data": {
      "text/plain": [
       "<heading>Reminder</heading>"
      ]
     },
     "execution_count": 7,
     "metadata": {},
     "output_type": "execute_result"
    }
   ],
   "source": [
    "xml_tag = soup.find('heading')\n",
    "xml_tag"
   ]
  },
  {
   "cell_type": "code",
   "execution_count": 8,
   "id": "bc0393fa",
   "metadata": {},
   "outputs": [
    {
     "data": {
      "text/plain": [
       "'Reminder'"
      ]
     },
     "execution_count": 8,
     "metadata": {},
     "output_type": "execute_result"
    }
   ],
   "source": [
    "xml_tag.text"
   ]
  },
  {
   "cell_type": "code",
   "execution_count": 9,
   "id": "7d5b840b",
   "metadata": {},
   "outputs": [
    {
     "data": {
      "text/plain": [
       "<note>\n",
       "<to>Tove</to>\n",
       "<from>Jani</from>\n",
       "<heading>Reminder</heading>\n",
       "  Don't forget me this weekend!\n",
       "</note>"
      ]
     },
     "execution_count": 9,
     "metadata": {},
     "output_type": "execute_result"
    }
   ],
   "source": [
    "xml_tag = soup.find('note')\n",
    "xml_tag"
   ]
  },
  {
   "cell_type": "code",
   "execution_count": 10,
   "id": "16d3bd9b",
   "metadata": {},
   "outputs": [
    {
     "data": {
      "text/plain": [
       "\"\\nTove\\nJani\\nReminder\\n  Don't forget me this weekend!\\n\""
      ]
     },
     "execution_count": 10,
     "metadata": {},
     "output_type": "execute_result"
    }
   ],
   "source": [
    "xml_tag.text"
   ]
  },
  {
   "cell_type": "code",
   "execution_count": 11,
   "id": "b89b341d",
   "metadata": {},
   "outputs": [
    {
     "name": "stdout",
     "output_type": "stream",
     "text": [
      "\n",
      "Tove\n",
      "Jani\n",
      "Reminder\n",
      "  Don't forget me this weekend!\n",
      "\n"
     ]
    }
   ],
   "source": [
    "print(xml_tag.text)"
   ]
  },
  {
   "cell_type": "code",
   "execution_count": null,
   "id": "98b81011",
   "metadata": {},
   "outputs": [],
   "source": []
  },
  {
   "cell_type": "code",
   "execution_count": null,
   "id": "eee257a7",
   "metadata": {},
   "outputs": [],
   "source": []
  }
 ],
 "metadata": {
  "kernelspec": {
   "display_name": "Python 3 (ipykernel)",
   "language": "python",
   "name": "python3"
  },
  "language_info": {
   "codemirror_mode": {
    "name": "ipython",
    "version": 3
   },
   "file_extension": ".py",
   "mimetype": "text/x-python",
   "name": "python",
   "nbconvert_exporter": "python",
   "pygments_lexer": "ipython3",
   "version": "3.9.12"
  }
 },
 "nbformat": 4,
 "nbformat_minor": 5
}
